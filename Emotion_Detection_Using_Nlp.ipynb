{
  "cells": [
    {
      "cell_type": "markdown",
      "id": "5649d663",
      "metadata": {
        "id": "5649d663",
        "papermill": {
          "duration": 0.030152,
          "end_time": "2021-11-20T13:44:17.132148",
          "exception": false,
          "start_time": "2021-11-20T13:44:17.101996",
          "status": "completed"
        },
        "tags": []
      },
      "source": [
        "# Data Information"
      ]
    },
    {
      "cell_type": "code",
      "execution_count": 1,
      "id": "16ed24c7",
      "metadata": {
        "execution": {
          "iopub.execute_input": "2021-11-20T13:44:17.207272Z",
          "iopub.status.busy": "2021-11-20T13:44:17.206356Z",
          "iopub.status.idle": "2021-11-20T13:44:59.049830Z",
          "shell.execute_reply": "2021-11-20T13:44:59.050544Z"
        },
        "id": "16ed24c7",
        "outputId": "38bf124d-3d86-4902-e168-6e8c9fb859a1",
        "papermill": {
          "duration": 41.890216,
          "end_time": "2021-11-20T13:44:59.050868",
          "exception": false,
          "start_time": "2021-11-20T13:44:17.160652",
          "status": "completed"
        },
        "tags": [],
        "colab": {
          "base_uri": "https://localhost:8080/"
        }
      },
      "outputs": [
        {
          "output_type": "stream",
          "name": "stdout",
          "text": [
            "[nltk_data] Downloading package wordnet to /root/nltk_data...\n",
            "[nltk_data]   Unzipping corpora/wordnet.zip.\n",
            "[nltk_data] Downloading package stopwords to /root/nltk_data...\n",
            "[nltk_data]   Unzipping corpora/stopwords.zip.\n"
          ]
        }
      ],
      "source": [
        "import numpy as np\n",
        "import pandas as pd\n",
        "import matplotlib.pyplot as plt\n",
        "import math\n",
        "import mlxtend\n",
        "import sklearn.cluster as cluster\n",
        "import sklearn.neighbors\n",
        "import sklearn.metrics as metrics\n",
        "import re\n",
        "from nltk.corpus import stopwords\n",
        "from sklearn.feature_extraction.text import CountVectorizer\n",
        "from sklearn.metrics.pairwise import cosine_similarity\n",
        "import string\n",
        "from sklearn.metrics import ConfusionMatrixDisplay\n",
        "from sklearn.linear_model import LogisticRegression\n",
        "from sklearn.model_selection import train_test_split\n",
        "from sklearn.model_selection import cross_val_score\n",
        "from sklearn.feature_extraction.text import TfidfTransformer\n",
        "from sklearn.naive_bayes import MultinomialNB\n",
        "from sklearn.metrics import classification_report,confusion_matrix, roc_curve, auc, precision_score, recall_score, f1_score, precision_recall_curve\n",
        "import nltk\n",
        "nltk.download('wordnet')\n",
        "nltk.download('stopwords')\n",
        "from nltk.tokenize import word_tokenize \n",
        "from nltk.tokenize import RegexpTokenizer\n",
        "import warnings\n",
        "warnings.filterwarnings('ignore')\n",
        "\n",
        "# Input data files are available in the read-only \"../input/\" directory\n",
        "# For example, running this (by clicking run or pressing Shift+Enter) will list all files under the input directory\n",
        "\n",
        "import os\n",
        "for dirname, _, filenames in os.walk('/kaggle/input'):\n",
        "    for filename in filenames:\n",
        "        print(os.path.join(dirname, filename))\n",
        "\n",
        "# You can write up to 20GB to the current directory (/kaggle/working/) that gets preserved as output when you create a version using \"Save & Run All\" \n",
        "# You can also write temporary files to /kaggle/temp/, but they won't be saved outside of the current session"
      ]
    },
    {
      "cell_type": "markdown",
      "id": "3f5b1399",
      "metadata": {
        "id": "3f5b1399",
        "papermill": {
          "duration": 0.028256,
          "end_time": "2021-11-20T13:44:59.108604",
          "exception": false,
          "start_time": "2021-11-20T13:44:59.080348",
          "status": "completed"
        },
        "tags": []
      },
      "source": [
        "# Load and explore the data\n",
        "#### The data is available at this source\n",
        "Data source: https://www.kaggle.com/praveengovi/emotions-dataset-for-nlp "
      ]
    },
    {
      "cell_type": "code",
      "execution_count": 2,
      "id": "605c198d",
      "metadata": {
        "execution": {
          "iopub.execute_input": "2021-11-20T13:44:59.171056Z",
          "iopub.status.busy": "2021-11-20T13:44:59.170500Z",
          "iopub.status.idle": "2021-11-20T13:44:59.264858Z",
          "shell.execute_reply": "2021-11-20T13:44:59.265960Z"
        },
        "id": "605c198d",
        "outputId": "33f737b7-bd73-462a-ce5e-df5f0358fd1b",
        "papermill": {
          "duration": 0.130109,
          "end_time": "2021-11-20T13:44:59.266154",
          "exception": false,
          "start_time": "2021-11-20T13:44:59.136045",
          "status": "completed"
        },
        "tags": [],
        "colab": {
          "base_uri": "https://localhost:8080/"
        }
      },
      "outputs": [
        {
          "output_type": "stream",
          "name": "stdout",
          "text": [
            "Total data: (20000, 2)\n"
          ]
        }
      ],
      "source": [
        "train_data = pd.read_csv('train.txt',names=['sentence','emotion'],header=None, sep=';')\n",
        "test_data = pd.read_csv('test.txt',names=['sentence','emotion'],header=None, sep=';')\n",
        "val_data= pd.read_csv('val.txt',names=['sentence','emotion'],header=None, sep=';')\n",
        "df = pd.concat([train_data,test_data, val_data])\n",
        "print('Total data:',df.shape)"
      ]
    },
    {
      "cell_type": "code",
      "execution_count": 3,
      "id": "37fa9a53",
      "metadata": {
        "execution": {
          "iopub.execute_input": "2021-11-20T13:44:59.343317Z",
          "iopub.status.busy": "2021-11-20T13:44:59.342598Z",
          "iopub.status.idle": "2021-11-20T13:44:59.345780Z",
          "shell.execute_reply": "2021-11-20T13:44:59.346252Z"
        },
        "id": "37fa9a53",
        "outputId": "31e1890b-77af-4686-d1da-683936761ab9",
        "papermill": {
          "duration": 0.051281,
          "end_time": "2021-11-20T13:44:59.346397",
          "exception": false,
          "start_time": "2021-11-20T13:44:59.295116",
          "status": "completed"
        },
        "tags": [],
        "colab": {
          "base_uri": "https://localhost:8080/"
        }
      },
      "outputs": [
        {
          "output_type": "execute_result",
          "data": {
            "text/plain": [
              "sentence    0\n",
              "emotion     0\n",
              "dtype: int64"
            ]
          },
          "metadata": {},
          "execution_count": 3
        }
      ],
      "source": [
        "# Null Check\n",
        "train_data.isnull().sum()\n",
        "test_data.isnull().sum()\n",
        "val_data.isnull().sum()"
      ]
    },
    {
      "cell_type": "code",
      "execution_count": 4,
      "id": "3eb610ae",
      "metadata": {
        "execution": {
          "iopub.execute_input": "2021-11-20T13:44:59.407434Z",
          "iopub.status.busy": "2021-11-20T13:44:59.406585Z",
          "iopub.status.idle": "2021-11-20T13:44:59.432662Z",
          "shell.execute_reply": "2021-11-20T13:44:59.432131Z"
        },
        "id": "3eb610ae",
        "outputId": "0771a597-dab3-4c3c-e2bc-1dd5f5b7d507",
        "papermill": {
          "duration": 0.057701,
          "end_time": "2021-11-20T13:44:59.432786",
          "exception": false,
          "start_time": "2021-11-20T13:44:59.375085",
          "status": "completed"
        },
        "tags": [],
        "colab": {
          "base_uri": "https://localhost:8080/"
        }
      },
      "outputs": [
        {
          "output_type": "execute_result",
          "data": {
            "text/plain": [
              "(19999, 2)"
            ]
          },
          "metadata": {},
          "execution_count": 4
        }
      ],
      "source": [
        "df = df.drop_duplicates(keep=\"first\") # Drop duplicated data and reindex the data\n",
        "df_reidx = df.reset_index(drop=True)\n",
        "df_reidx.shape"
      ]
    },
    {
      "cell_type": "code",
      "execution_count": 5,
      "id": "e4f8acdb",
      "metadata": {
        "execution": {
          "iopub.execute_input": "2021-11-20T13:44:59.494538Z",
          "iopub.status.busy": "2021-11-20T13:44:59.493600Z",
          "iopub.status.idle": "2021-11-20T13:44:59.508063Z",
          "shell.execute_reply": "2021-11-20T13:44:59.507543Z"
        },
        "id": "e4f8acdb",
        "papermill": {
          "duration": 0.045985,
          "end_time": "2021-11-20T13:44:59.508209",
          "exception": false,
          "start_time": "2021-11-20T13:44:59.462224",
          "status": "completed"
        },
        "tags": []
      },
      "outputs": [],
      "source": [
        "# convert the emotions to binary labels. love and joy emotions are \"not-stressed ==1\", and sadness, anger, fear, and surprise are \"stressed == 0\".\n",
        "df_reidx['label']=df_reidx['emotion'].replace({'joy': \"not-stressed\" , 'love': \"not-stressed\", \n",
        "                                   'sadness': \"stressed\", 'anger': \"stressed\", 'fear': \"stressed\",'surprise': \"stressed\"})"
      ]
    },
    {
      "cell_type": "code",
      "execution_count": 6,
      "id": "e9fa4f67",
      "metadata": {
        "execution": {
          "iopub.execute_input": "2021-11-20T13:44:59.580038Z",
          "iopub.status.busy": "2021-11-20T13:44:59.579375Z",
          "iopub.status.idle": "2021-11-20T13:44:59.582120Z",
          "shell.execute_reply": "2021-11-20T13:44:59.582597Z"
        },
        "id": "e9fa4f67",
        "outputId": "5f49e467-8ccd-42b5-f2ad-278d1c2a843b",
        "papermill": {
          "duration": 0.044311,
          "end_time": "2021-11-20T13:44:59.582761",
          "exception": false,
          "start_time": "2021-11-20T13:44:59.538450",
          "status": "completed"
        },
        "tags": [],
        "colab": {
          "base_uri": "https://localhost:8080/"
        }
      },
      "outputs": [
        {
          "output_type": "execute_result",
          "data": {
            "text/plain": [
              "stressed        11598\n",
              "not-stressed     8401\n",
              "Name: label, dtype: int64"
            ]
          },
          "metadata": {},
          "execution_count": 6
        }
      ],
      "source": [
        "# check if pos and neg sentiments\n",
        "df_reidx.label.value_counts()"
      ]
    },
    {
      "cell_type": "code",
      "execution_count": 7,
      "id": "d7d82af8",
      "metadata": {
        "execution": {
          "iopub.execute_input": "2021-11-20T13:44:59.658418Z",
          "iopub.status.busy": "2021-11-20T13:44:59.657559Z",
          "iopub.status.idle": "2021-11-20T13:44:59.667463Z",
          "shell.execute_reply": "2021-11-20T13:44:59.666922Z"
        },
        "id": "d7d82af8",
        "outputId": "1f569d6d-5165-4924-a045-3e71b6b29ae0",
        "papermill": {
          "duration": 0.055275,
          "end_time": "2021-11-20T13:44:59.667604",
          "exception": false,
          "start_time": "2021-11-20T13:44:59.612329",
          "status": "completed"
        },
        "tags": [],
        "colab": {
          "base_uri": "https://localhost:8080/"
        }
      },
      "outputs": [
        {
          "output_type": "execute_result",
          "data": {
            "text/plain": [
              "count    19999.000000\n",
              "mean        96.671784\n",
              "std         55.778779\n",
              "min          7.000000\n",
              "25%         53.000000\n",
              "50%         86.000000\n",
              "75%        129.000000\n",
              "max        300.000000\n",
              "Name: length, dtype: float64"
            ]
          },
          "metadata": {},
          "execution_count": 7
        }
      ],
      "source": [
        "df_reidx['length'] = df_reidx['sentence'].apply(len) # number of characters\n",
        "df_reidx['length'].describe() # info()"
      ]
    },
    {
      "cell_type": "code",
      "execution_count": 8,
      "id": "ecb9aa52",
      "metadata": {
        "execution": {
          "iopub.execute_input": "2021-11-20T13:44:59.738465Z",
          "iopub.status.busy": "2021-11-20T13:44:59.737814Z",
          "iopub.status.idle": "2021-11-20T13:44:59.749397Z",
          "shell.execute_reply": "2021-11-20T13:44:59.749813Z"
        },
        "id": "ecb9aa52",
        "outputId": "bae7982e-dc91-48c6-9840-4994c29dca6b",
        "papermill": {
          "duration": 0.048013,
          "end_time": "2021-11-20T13:44:59.749949",
          "exception": false,
          "start_time": "2021-11-20T13:44:59.701936",
          "status": "completed"
        },
        "tags": [],
        "colab": {
          "base_uri": "https://localhost:8080/",
          "height": 206
        }
      },
      "outputs": [
        {
          "output_type": "execute_result",
          "data": {
            "text/html": [
              "<div>\n",
              "<style scoped>\n",
              "    .dataframe tbody tr th:only-of-type {\n",
              "        vertical-align: middle;\n",
              "    }\n",
              "\n",
              "    .dataframe tbody tr th {\n",
              "        vertical-align: top;\n",
              "    }\n",
              "\n",
              "    .dataframe thead th {\n",
              "        text-align: right;\n",
              "    }\n",
              "</style>\n",
              "<table border=\"1\" class=\"dataframe\">\n",
              "  <thead>\n",
              "    <tr style=\"text-align: right;\">\n",
              "      <th></th>\n",
              "      <th>sentence</th>\n",
              "      <th>emotion</th>\n",
              "      <th>label</th>\n",
              "      <th>length</th>\n",
              "    </tr>\n",
              "  </thead>\n",
              "  <tbody>\n",
              "    <tr>\n",
              "      <th>19994</th>\n",
              "      <td>im having ssa examination tomorrow in the morn...</td>\n",
              "      <td>sadness</td>\n",
              "      <td>stressed</td>\n",
              "      <td>191</td>\n",
              "    </tr>\n",
              "    <tr>\n",
              "      <th>19995</th>\n",
              "      <td>i constantly worry about their fight against n...</td>\n",
              "      <td>joy</td>\n",
              "      <td>not-stressed</td>\n",
              "      <td>173</td>\n",
              "    </tr>\n",
              "    <tr>\n",
              "      <th>19996</th>\n",
              "      <td>i feel its important to share this info for th...</td>\n",
              "      <td>joy</td>\n",
              "      <td>not-stressed</td>\n",
              "      <td>80</td>\n",
              "    </tr>\n",
              "    <tr>\n",
              "      <th>19997</th>\n",
              "      <td>i truly feel that if you are passionate enough...</td>\n",
              "      <td>joy</td>\n",
              "      <td>not-stressed</td>\n",
              "      <td>105</td>\n",
              "    </tr>\n",
              "    <tr>\n",
              "      <th>19998</th>\n",
              "      <td>i feel like i just wanna buy any cute make up ...</td>\n",
              "      <td>joy</td>\n",
              "      <td>not-stressed</td>\n",
              "      <td>74</td>\n",
              "    </tr>\n",
              "  </tbody>\n",
              "</table>\n",
              "</div>"
            ],
            "text/plain": [
              "                                                sentence  ... length\n",
              "19994  im having ssa examination tomorrow in the morn...  ...    191\n",
              "19995  i constantly worry about their fight against n...  ...    173\n",
              "19996  i feel its important to share this info for th...  ...     80\n",
              "19997  i truly feel that if you are passionate enough...  ...    105\n",
              "19998  i feel like i just wanna buy any cute make up ...  ...     74\n",
              "\n",
              "[5 rows x 4 columns]"
            ]
          },
          "metadata": {},
          "execution_count": 8
        }
      ],
      "source": [
        "df_reidx.tail()"
      ]
    },
    {
      "cell_type": "markdown",
      "id": "be94dfd9",
      "metadata": {
        "id": "be94dfd9",
        "papermill": {
          "duration": 0.029714,
          "end_time": "2021-11-20T13:44:59.810703",
          "exception": false,
          "start_time": "2021-11-20T13:44:59.780989",
          "status": "completed"
        },
        "tags": []
      },
      "source": [
        "# Text Preprocessing\n",
        "#### To clean the sentences,we do text preprocessing.\n",
        "*   Decontracted\n",
        "*   Data cleaning\n",
        "*   Spell check\n",
        "*   Lemmatization\n",
        "*   Nomalization"
      ]
    },
    {
      "cell_type": "code",
      "execution_count": 9,
      "id": "996b9e31",
      "metadata": {
        "execution": {
          "iopub.execute_input": "2021-11-20T13:44:59.886599Z",
          "iopub.status.busy": "2021-11-20T13:44:59.885965Z",
          "iopub.status.idle": "2021-11-20T13:45:05.772797Z",
          "shell.execute_reply": "2021-11-20T13:45:05.773256Z"
        },
        "id": "996b9e31",
        "outputId": "a3df79a5-c3d8-47cc-b0b0-c3f022d21916",
        "papermill": {
          "duration": 5.932414,
          "end_time": "2021-11-20T13:45:05.773411",
          "exception": false,
          "start_time": "2021-11-20T13:44:59.840997",
          "status": "completed"
        },
        "tags": [],
        "colab": {
          "base_uri": "https://localhost:8080/",
          "height": 224
        }
      },
      "outputs": [
        {
          "output_type": "stream",
          "name": "stderr",
          "text": [
            "100%|██████████| 19999/19999 [00:05<00:00, 3581.97it/s]\n"
          ]
        },
        {
          "output_type": "execute_result",
          "data": {
            "text/html": [
              "<div>\n",
              "<style scoped>\n",
              "    .dataframe tbody tr th:only-of-type {\n",
              "        vertical-align: middle;\n",
              "    }\n",
              "\n",
              "    .dataframe tbody tr th {\n",
              "        vertical-align: top;\n",
              "    }\n",
              "\n",
              "    .dataframe thead th {\n",
              "        text-align: right;\n",
              "    }\n",
              "</style>\n",
              "<table border=\"1\" class=\"dataframe\">\n",
              "  <thead>\n",
              "    <tr style=\"text-align: right;\">\n",
              "      <th></th>\n",
              "      <th>sentence</th>\n",
              "      <th>emotion</th>\n",
              "      <th>label</th>\n",
              "      <th>length</th>\n",
              "      <th>cleaned_sentence</th>\n",
              "    </tr>\n",
              "  </thead>\n",
              "  <tbody>\n",
              "    <tr>\n",
              "      <th>0</th>\n",
              "      <td>i didnt feel humiliated</td>\n",
              "      <td>sadness</td>\n",
              "      <td>stressed</td>\n",
              "      <td>23</td>\n",
              "      <td>i did not feel humiliated</td>\n",
              "    </tr>\n",
              "    <tr>\n",
              "      <th>1</th>\n",
              "      <td>i can go from feeling so hopeless to so damned...</td>\n",
              "      <td>sadness</td>\n",
              "      <td>stressed</td>\n",
              "      <td>108</td>\n",
              "      <td>i can go from feeling so hopeless to so damned...</td>\n",
              "    </tr>\n",
              "    <tr>\n",
              "      <th>2</th>\n",
              "      <td>im grabbing a minute to post i feel greedy wrong</td>\n",
              "      <td>anger</td>\n",
              "      <td>stressed</td>\n",
              "      <td>48</td>\n",
              "      <td>i am grabbing a minute to post i feel greedy w...</td>\n",
              "    </tr>\n",
              "    <tr>\n",
              "      <th>3</th>\n",
              "      <td>i am ever feeling nostalgic about the fireplac...</td>\n",
              "      <td>love</td>\n",
              "      <td>not-stressed</td>\n",
              "      <td>92</td>\n",
              "      <td>i am ever feeling nostalgic about the fireplac...</td>\n",
              "    </tr>\n",
              "    <tr>\n",
              "      <th>4</th>\n",
              "      <td>i am feeling grouchy</td>\n",
              "      <td>anger</td>\n",
              "      <td>stressed</td>\n",
              "      <td>20</td>\n",
              "      <td>i am feeling grouchy</td>\n",
              "    </tr>\n",
              "  </tbody>\n",
              "</table>\n",
              "</div>"
            ],
            "text/plain": [
              "                                            sentence  ...                                   cleaned_sentence\n",
              "0                            i didnt feel humiliated  ...                          i did not feel humiliated\n",
              "1  i can go from feeling so hopeless to so damned...  ...  i can go from feeling so hopeless to so damned...\n",
              "2   im grabbing a minute to post i feel greedy wrong  ...  i am grabbing a minute to post i feel greedy w...\n",
              "3  i am ever feeling nostalgic about the fireplac...  ...  i am ever feeling nostalgic about the fireplac...\n",
              "4                               i am feeling grouchy  ...                               i am feeling grouchy\n",
              "\n",
              "[5 rows x 5 columns]"
            ]
          },
          "metadata": {},
          "execution_count": 9
        }
      ],
      "source": [
        "from tqdm import tqdm\n",
        "import re\n",
        "from bs4 import BeautifulSoup\n",
        "from nltk.stem import PorterStemmer\n",
        "from nltk.stem import WordNetLemmatizer\n",
        "\n",
        "def decontracted(phrase):\n",
        "    \"\"\"\n",
        "    We first define a function to expand the contracted phrase into normal words\n",
        "    \"\"\"\n",
        "    # specific\n",
        "    phrase = re.sub(r\"wont\", \"will not\", phrase)\n",
        "    phrase = re.sub(r\"wouldnt\", \"would not\", phrase)\n",
        "    phrase = re.sub(r\"shouldnt\", \"should not\", phrase)\n",
        "    phrase = re.sub(r\"couldnt\", \"could not\", phrase)\n",
        "    phrase = re.sub(r\"cudnt\", \"could not\", phrase)\n",
        "    phrase = re.sub(r\"cant\", \"can not\", phrase)\n",
        "    phrase = re.sub(r\"dont\", \"do not\", phrase)\n",
        "    phrase = re.sub(r\"doesnt\", \"does not\", phrase)\n",
        "    phrase = re.sub(r\"didnt\", \"did not\", phrase)\n",
        "    phrase = re.sub(r\"wasnt\", \"was not\", phrase)\n",
        "    phrase = re.sub(r\"werent\", \"were not\", phrase)\n",
        "    phrase = re.sub(r\"havent\", \"have not\", phrase)\n",
        "    phrase = re.sub(r\"hadnt\", \"had not\", phrase)\n",
        "\n",
        "    # general\n",
        "    phrase = re.sub(r\"n\\ t\", \" not\", phrase)\n",
        "    #phrase = re.sub(r\"\\re\", \" are\", phrase)\n",
        "    phrase = re.sub(r\"\\ s \", \" is \", phrase) # prime \n",
        "    phrase = re.sub(r\"\\ d \", \" would \", phrase)\n",
        "    phrase = re.sub(r\"\\ ll \", \" will \", phrase)\n",
        "    phrase = re.sub(r\"\\dunno\", \"do not \", phrase)\n",
        "    phrase = re.sub(r\"ive \", \"i have \", phrase)\n",
        "    phrase = re.sub(r\"im \", \"i am \", phrase)\n",
        "    phrase = re.sub(r\"i m \", \"i am \", phrase)\n",
        "    phrase = re.sub(r\" w \", \" with \", phrase)\n",
        "    \n",
        "    return phrase\n",
        "\n",
        "    \n",
        "def clean_text(df):\n",
        "    \"\"\"\n",
        "    Clean the review texts\n",
        "    \"\"\"\n",
        "    cleaned_review = []\n",
        "\n",
        "    for review_text in tqdm(df['sentence']):\n",
        "        \n",
        "        # expand the contracted words\n",
        "        review_text = decontracted(review_text)\n",
        "        #remove html tags\n",
        "        review_text = BeautifulSoup(review_text, 'lxml').get_text().strip() # re.sub(r'<.*?>', '', text)\n",
        "        \n",
        "        #remove non-alphabetic characters\n",
        "        review_text = re.sub(\"[^a-zA-Z]\",\" \", review_text)\n",
        "    \n",
        "        #remove url \n",
        "        review_text = re.sub(r'https?://\\S+|www\\.\\S+', '', review_text)\n",
        "        \n",
        "        #Removing punctutation, string.punctuation in python consists of !\"#$%&\\'()*+,-./:;<=>?@[\\\\]^_{|}~`\n",
        "        review_text = review_text.translate(str.maketrans('', '', string.punctuation))\n",
        "        # ''.join([char for char in movie_text_data if char not in string.punctuation])\n",
        "        \n",
        "        # remove emails\n",
        "        review_text = re.sub(r\"(^[a-zA-Z0-9_.+-]+@[a-zA-Z0-9-]+\\.[a-zA-Z0-9-.]+$)\", '', review_text)\n",
        "    \n",
        "        cleaned_review.append(review_text)\n",
        "\n",
        "    return cleaned_review  \n",
        "\n",
        "df_reidx['cleaned_sentence'] = clean_text(df_reidx)\n",
        "df_reidx.head()  "
      ]
    },
    {
      "cell_type": "markdown",
      "id": "2d3fc2f5",
      "metadata": {
        "id": "2d3fc2f5",
        "papermill": {
          "duration": 0.046244,
          "end_time": "2021-11-20T13:45:05.866408",
          "exception": false,
          "start_time": "2021-11-20T13:45:05.820164",
          "status": "completed"
        },
        "tags": []
      },
      "source": [
        "###### additional lemmatization"
      ]
    },
    {
      "cell_type": "code",
      "execution_count": 10,
      "id": "65b3938d",
      "metadata": {
        "execution": {
          "iopub.execute_input": "2021-11-20T13:45:06.020868Z",
          "iopub.status.busy": "2021-11-20T13:45:06.020253Z",
          "iopub.status.idle": "2021-11-20T13:45:31.425903Z",
          "shell.execute_reply": "2021-11-20T13:45:31.426543Z"
        },
        "id": "65b3938d",
        "outputId": "b1925191-b26a-48ad-e949-a73e643cb8ae",
        "papermill": {
          "duration": 25.513714,
          "end_time": "2021-11-20T13:45:31.426716",
          "exception": false,
          "start_time": "2021-11-20T13:45:05.913002",
          "status": "completed"
        },
        "tags": [],
        "colab": {
          "base_uri": "https://localhost:8080/",
          "height": 258
        }
      },
      "outputs": [
        {
          "output_type": "stream",
          "name": "stdout",
          "text": [
            "[nltk_data] Downloading package punkt to /root/nltk_data...\n",
            "[nltk_data]   Unzipping tokenizers/punkt.zip.\n"
          ]
        },
        {
          "output_type": "stream",
          "name": "stderr",
          "text": [
            "100%|██████████| 19999/19999 [00:03<00:00, 5141.53it/s]\n"
          ]
        },
        {
          "output_type": "execute_result",
          "data": {
            "text/html": [
              "<div>\n",
              "<style scoped>\n",
              "    .dataframe tbody tr th:only-of-type {\n",
              "        vertical-align: middle;\n",
              "    }\n",
              "\n",
              "    .dataframe tbody tr th {\n",
              "        vertical-align: top;\n",
              "    }\n",
              "\n",
              "    .dataframe thead th {\n",
              "        text-align: right;\n",
              "    }\n",
              "</style>\n",
              "<table border=\"1\" class=\"dataframe\">\n",
              "  <thead>\n",
              "    <tr style=\"text-align: right;\">\n",
              "      <th></th>\n",
              "      <th>sentence</th>\n",
              "      <th>emotion</th>\n",
              "      <th>label</th>\n",
              "      <th>length</th>\n",
              "      <th>cleaned_sentence</th>\n",
              "    </tr>\n",
              "  </thead>\n",
              "  <tbody>\n",
              "    <tr>\n",
              "      <th>0</th>\n",
              "      <td>i didnt feel humiliated</td>\n",
              "      <td>sadness</td>\n",
              "      <td>stressed</td>\n",
              "      <td>23</td>\n",
              "      <td>[feel, humiliated]</td>\n",
              "    </tr>\n",
              "    <tr>\n",
              "      <th>1</th>\n",
              "      <td>i can go from feeling so hopeless to so damned...</td>\n",
              "      <td>sadness</td>\n",
              "      <td>stressed</td>\n",
              "      <td>108</td>\n",
              "      <td>[go, feeling, hopeless, damned, hopeful, aroun...</td>\n",
              "    </tr>\n",
              "    <tr>\n",
              "      <th>2</th>\n",
              "      <td>im grabbing a minute to post i feel greedy wrong</td>\n",
              "      <td>anger</td>\n",
              "      <td>stressed</td>\n",
              "      <td>48</td>\n",
              "      <td>[grabbing, minute, post, feel, greedy, wrong]</td>\n",
              "    </tr>\n",
              "    <tr>\n",
              "      <th>3</th>\n",
              "      <td>i am ever feeling nostalgic about the fireplac...</td>\n",
              "      <td>love</td>\n",
              "      <td>not-stressed</td>\n",
              "      <td>92</td>\n",
              "      <td>[ever, feeling, nostalgic, fireplace, know, st...</td>\n",
              "    </tr>\n",
              "    <tr>\n",
              "      <th>4</th>\n",
              "      <td>i am feeling grouchy</td>\n",
              "      <td>anger</td>\n",
              "      <td>stressed</td>\n",
              "      <td>20</td>\n",
              "      <td>[feeling, grouchy]</td>\n",
              "    </tr>\n",
              "  </tbody>\n",
              "</table>\n",
              "</div>"
            ],
            "text/plain": [
              "                                            sentence  ...                                   cleaned_sentence\n",
              "0                            i didnt feel humiliated  ...                                 [feel, humiliated]\n",
              "1  i can go from feeling so hopeless to so damned...  ...  [go, feeling, hopeless, damned, hopeful, aroun...\n",
              "2   im grabbing a minute to post i feel greedy wrong  ...      [grabbing, minute, post, feel, greedy, wrong]\n",
              "3  i am ever feeling nostalgic about the fireplac...  ...  [ever, feeling, nostalgic, fireplace, know, st...\n",
              "4                               i am feeling grouchy  ...                                 [feeling, grouchy]\n",
              "\n",
              "[5 rows x 5 columns]"
            ]
          },
          "metadata": {},
          "execution_count": 10
        }
      ],
      "source": [
        "import nltk\n",
        "nltk.download('punkt')\n",
        "def remove_stopwords(phrase):\n",
        "    remove_sw = []\n",
        "    tokenizer = RegexpTokenizer(r'[a-zA-Z0-9]+')\n",
        "    stop_words = stopwords.words('english')\n",
        "    \n",
        "    for review_text in tqdm(phrase):\n",
        "        tokens = word_tokenize(review_text)\n",
        "        tokens = [word for word in tokens if not word in stop_words]\n",
        "        remove_sw.append(tokens)\n",
        "    return remove_sw\n",
        "\n",
        "df_reidx['cleaned_sentence'] = remove_stopwords(df_reidx['cleaned_sentence'])\n",
        "df_reidx.head()"
      ]
    },
    {
      "cell_type": "code",
      "execution_count": 11,
      "id": "3196705a",
      "metadata": {
        "execution": {
          "iopub.execute_input": "2021-11-20T13:45:31.561596Z",
          "iopub.status.busy": "2021-11-20T13:45:31.560590Z",
          "iopub.status.idle": "2021-11-20T13:45:37.446380Z",
          "shell.execute_reply": "2021-11-20T13:45:37.445734Z"
        },
        "id": "3196705a",
        "outputId": "8b17ab73-42ba-455d-fa13-f67ec3775533",
        "papermill": {
          "duration": 5.956573,
          "end_time": "2021-11-20T13:45:37.446574",
          "exception": false,
          "start_time": "2021-11-20T13:45:31.490001",
          "status": "completed"
        },
        "tags": [],
        "colab": {
          "base_uri": "https://localhost:8080/"
        }
      },
      "outputs": [
        {
          "output_type": "stream",
          "name": "stderr",
          "text": [
            "100%|██████████| 19999/19999 [00:05<00:00, 3880.96it/s]\n"
          ]
        },
        {
          "output_type": "execute_result",
          "data": {
            "text/plain": [
              "0                                       [feel, humili]\n",
              "1    [go, feel, hopeless, damn, hope, around, someo...\n",
              "2             [grab, minut, post, feel, greedi, wrong]\n",
              "3    [ever, feel, nostalg, fireplac, know, still, n...\n",
              "4                                      [feel, grouchi]\n",
              "Name: cleaned_sentence, dtype: object"
            ]
          },
          "metadata": {},
          "execution_count": 11
        }
      ],
      "source": [
        "#stemming for extract the actual meaning of the words\n",
        "from nltk.stem import PorterStemmer\n",
        "\n",
        "def stemming(phrase):\n",
        "    stemmer = PorterStemmer()\n",
        "    stem_output=[]\n",
        "    stemmed=[]\n",
        "    for review_text in tqdm(phrase):\n",
        "        stemmed = [stemmer.stem(word) for word in review_text]\n",
        "        stem_output.append(stemmed)\n",
        "    return stem_output\n",
        "\n",
        "df_reidx['cleaned_sentence'] = stemming(df_reidx['cleaned_sentence'])\n",
        "df_reidx['cleaned_sentence'].head()"
      ]
    },
    {
      "cell_type": "code",
      "execution_count": 12,
      "id": "1b4b4023",
      "metadata": {
        "execution": {
          "iopub.execute_input": "2021-11-20T13:45:37.609342Z",
          "iopub.status.busy": "2021-11-20T13:45:37.608433Z",
          "iopub.status.idle": "2021-11-20T13:45:37.654910Z",
          "shell.execute_reply": "2021-11-20T13:45:37.655411Z"
        },
        "id": "1b4b4023",
        "outputId": "b86c29ca-ed2b-4a7a-f250-499f49ac7e30",
        "papermill": {
          "duration": 0.127673,
          "end_time": "2021-11-20T13:45:37.655585",
          "exception": false,
          "start_time": "2021-11-20T13:45:37.527912",
          "status": "completed"
        },
        "tags": [],
        "colab": {
          "base_uri": "https://localhost:8080/"
        }
      },
      "outputs": [
        {
          "output_type": "stream",
          "name": "stderr",
          "text": [
            "100%|██████████| 19999/19999 [00:00<00:00, 906507.79it/s]\n"
          ]
        },
        {
          "output_type": "execute_result",
          "data": {
            "text/plain": [
              "0                                          feel humili\n",
              "1    go feel hopeless damn hope around someon care ...\n",
              "2                    grab minut post feel greedi wrong\n",
              "3    ever feel nostalg fireplac know still noth pro...\n",
              "4                                         feel grouchi\n",
              "Name: cleaned_sentence, dtype: object"
            ]
          },
          "metadata": {},
          "execution_count": 12
        }
      ],
      "source": [
        "def to_sentence(phrase):\n",
        "    sentence=[]\n",
        "    for words in tqdm(phrase):\n",
        "        sentence.append((\" \").join(words))\n",
        "    return sentence\n",
        "df_reidx['cleaned_sentence']=to_sentence(df_reidx['cleaned_sentence'])\n",
        "df_reidx['cleaned_sentence'].head()"
      ]
    },
    {
      "cell_type": "markdown",
      "id": "76ce225f",
      "metadata": {
        "id": "76ce225f",
        "papermill": {
          "duration": 0.080413,
          "end_time": "2021-11-20T13:45:37.820499",
          "exception": false,
          "start_time": "2021-11-20T13:45:37.740086",
          "status": "completed"
        },
        "tags": []
      },
      "source": [
        "# Feature Engineering"
      ]
    },
    {
      "cell_type": "markdown",
      "id": "8302237a",
      "metadata": {
        "id": "8302237a",
        "papermill": {
          "duration": 0.079507,
          "end_time": "2021-11-20T13:45:37.980688",
          "exception": false,
          "start_time": "2021-11-20T13:45:37.901181",
          "status": "completed"
        },
        "tags": []
      },
      "source": [
        "### CounterVectorize: tokenization: "
      ]
    },
    {
      "cell_type": "code",
      "execution_count": 13,
      "id": "388745e3",
      "metadata": {
        "execution": {
          "iopub.execute_input": "2021-11-20T13:45:38.166727Z",
          "iopub.status.busy": "2021-11-20T13:45:38.151176Z",
          "iopub.status.idle": "2021-11-20T13:45:38.433250Z",
          "shell.execute_reply": "2021-11-20T13:45:38.433714Z"
        },
        "id": "388745e3",
        "outputId": "6b9a56d3-f5b6-4b34-ec80-b23cc19f4236",
        "papermill": {
          "duration": 0.372144,
          "end_time": "2021-11-20T13:45:38.433864",
          "exception": false,
          "start_time": "2021-11-20T13:45:38.061720",
          "status": "completed"
        },
        "tags": [],
        "colab": {
          "base_uri": "https://localhost:8080/"
        }
      },
      "outputs": [
        {
          "output_type": "stream",
          "name": "stdout",
          "text": [
            "X.shape :  (19999, 4374)\n",
            "y.shape :  (19999,)\n"
          ]
        }
      ],
      "source": [
        "# convert the cleaned sentences to vectors\n",
        "token = RegexpTokenizer(r'[a-zA-Z0-9]+')\n",
        "# a built-in stop word list for english is used\n",
        "# all values of n such than min_n<=n<= max_n will be used. (1,1): only unigrams, (1,2):uni&bigram, (2,2): only bigrams\n",
        "# max_df: when building the vocabulary, ignore terms that have a document frequency strictly higher than the given threshold.\n",
        "# min_df: ignore terms that have a document frequency strictly lower than the given threshold.\n",
        "\n",
        "vectorizer = CountVectorizer(stop_words='english', max_df=0.5, min_df=3, ngram_range=(1,1),tokenizer = token.tokenize)\n",
        "x = vectorizer.fit_transform(df_reidx.cleaned_sentence)\n",
        "y = df_reidx.label.values\n",
        "\n",
        "print(\"X.shape : \",x.shape)\n",
        "print(\"y.shape : \",y.shape)"
      ]
    },
    {
      "cell_type": "markdown",
      "id": "dcb7212f",
      "metadata": {
        "id": "dcb7212f",
        "papermill": {
          "duration": 0.082739,
          "end_time": "2021-11-20T13:45:38.598300",
          "exception": false,
          "start_time": "2021-11-20T13:45:38.515561",
          "status": "completed"
        },
        "tags": []
      },
      "source": [
        "# Train Test split"
      ]
    },
    {
      "cell_type": "code",
      "execution_count": 14,
      "id": "87b334b7",
      "metadata": {
        "execution": {
          "iopub.execute_input": "2021-11-20T13:45:38.769288Z",
          "iopub.status.busy": "2021-11-20T13:45:38.768622Z",
          "iopub.status.idle": "2021-11-20T13:45:38.778142Z",
          "shell.execute_reply": "2021-11-20T13:45:38.777436Z"
        },
        "id": "87b334b7",
        "outputId": "f83c6013-ad89-4d6a-dd9d-c99a6afa360d",
        "papermill": {
          "duration": 0.101302,
          "end_time": "2021-11-20T13:45:38.778320",
          "exception": false,
          "start_time": "2021-11-20T13:45:38.677018",
          "status": "completed"
        },
        "tags": [],
        "colab": {
          "base_uri": "https://localhost:8080/"
        }
      },
      "outputs": [
        {
          "output_type": "stream",
          "name": "stdout",
          "text": [
            "Number of training examples:13999\n",
            "Number of testing examples:6000\n",
            "\n",
            "Training data: X_train : (13999, 4374), y_train : (13999,)\n",
            "Testing data: X_test : (6000, 4374), y_test : (6000,)\n"
          ]
        }
      ],
      "source": [
        "# do shuffle to make neg and pos data of data set split equaly in the test and training set\n",
        "# do random_sate for making it settle when we run this code repeatedly\n",
        "train_idx, test_idx = train_test_split(np.arange(df_reidx.shape[0]), test_size=0.3,shuffle=True, random_state=42)\n",
        "\n",
        "x_train = x[train_idx]\n",
        "y_train = y[train_idx]\n",
        "\n",
        "x_test = x[test_idx]\n",
        "y_test = y[test_idx]\n",
        "print(\"Number of training examples:{}\".format(len(train_idx)))\n",
        "print(\"Number of testing examples:{}\\n\".format(len(test_idx)))\n",
        "print(\"Training data: X_train : {}, y_train : {}\".format(x_train.shape, y_train.shape))\n",
        "print(\"Testing data: X_test : {}, y_test : {}\".format(x_test.shape, y_test.shape))\n"
      ]
    },
    {
      "cell_type": "code",
      "execution_count": 15,
      "id": "df8239d6",
      "metadata": {
        "execution": {
          "iopub.execute_input": "2021-11-20T13:45:38.946845Z",
          "iopub.status.busy": "2021-11-20T13:45:38.946025Z",
          "iopub.status.idle": "2021-11-20T13:45:38.948886Z",
          "shell.execute_reply": "2021-11-20T13:45:38.949424Z"
        },
        "id": "df8239d6",
        "outputId": "771a9a7f-655c-4e14-e715-bf73aba61f40",
        "papermill": {
          "duration": 0.088267,
          "end_time": "2021-11-20T13:45:38.949563",
          "exception": false,
          "start_time": "2021-11-20T13:45:38.861296",
          "status": "completed"
        },
        "tags": [],
        "colab": {
          "base_uri": "https://localhost:8080/"
        }
      },
      "outputs": [
        {
          "output_type": "execute_result",
          "data": {
            "text/plain": [
              "(13999, 4374)"
            ]
          },
          "metadata": {},
          "execution_count": 15
        }
      ],
      "source": [
        "x_train.shape"
      ]
    },
    {
      "cell_type": "markdown",
      "id": "342e5e95",
      "metadata": {
        "id": "342e5e95",
        "papermill": {
          "duration": 0.081771,
          "end_time": "2021-11-20T13:45:39.111693",
          "exception": false,
          "start_time": "2021-11-20T13:45:39.029922",
          "status": "completed"
        },
        "tags": []
      },
      "source": [
        "# Model Training"
      ]
    },
    {
      "cell_type": "markdown",
      "id": "099c213d",
      "metadata": {
        "id": "099c213d",
        "papermill": {
          "duration": 0.082548,
          "end_time": "2021-11-20T13:45:39.275693",
          "exception": false,
          "start_time": "2021-11-20T13:45:39.193145",
          "status": "completed"
        },
        "tags": []
      },
      "source": [
        "#### Logistic Regression"
      ]
    },
    {
      "cell_type": "code",
      "execution_count": 16,
      "id": "20293bf6",
      "metadata": {
        "execution": {
          "iopub.execute_input": "2021-11-20T13:45:39.448083Z",
          "iopub.status.busy": "2021-11-20T13:45:39.447183Z",
          "iopub.status.idle": "2021-11-20T13:45:40.300298Z",
          "shell.execute_reply": "2021-11-20T13:45:40.300724Z"
        },
        "id": "20293bf6",
        "outputId": "35a49b01-920e-4e6b-dbf6-0a6fe6f52180",
        "papermill": {
          "duration": 0.940292,
          "end_time": "2021-11-20T13:45:40.300892",
          "exception": false,
          "start_time": "2021-11-20T13:45:39.360600",
          "status": "completed"
        },
        "tags": [],
        "colab": {
          "base_uri": "https://localhost:8080/",
          "height": 505
        }
      },
      "outputs": [
        {
          "output_type": "stream",
          "name": "stdout",
          "text": [
            "              precision    recall  f1-score   support\n",
            "\n",
            "not-stressed       0.95      0.93      0.94      2491\n",
            "    stressed       0.95      0.96      0.96      3509\n",
            "\n",
            "    accuracy                           0.95      6000\n",
            "   macro avg       0.95      0.95      0.95      6000\n",
            "weighted avg       0.95      0.95      0.95      6000\n",
            "\n",
            "\n",
            "Accuracy for Logistic Regression model: 0.9486666666666667\n",
            "\n",
            "\n"
          ]
        },
        {
          "output_type": "display_data",
          "data": {
            "image/png": "[encoded data removed]",
            "text/plain": [
              "<Figure size 432x288 with 2 Axes>"
            ]
          },
          "metadata": {
            "needs_background": "light"
          }
        }
      ],
      "source": [
        "# fit a logistic regression classifier on the training data use default settings\n",
        "lr_clf = LogisticRegression()\n",
        "lr_clf.fit(x_train, y_train)\n",
        "\n",
        "# make prediction on testing data\n",
        "y_pred_test_lr = lr_clf.predict(x_test)\n",
        "y_predprob_lr = lr_clf.predict_proba(x_test)\n",
        "matrix_lr = confusion_matrix(y_test,y_pred_test_lr)\n",
        "print(classification_report(y_test, y_pred_test_lr))\n",
        "print(\"\\nAccuracy for Logistic Regression model:\",metrics.accuracy_score(y_test, y_pred_test_lr))\n",
        "print(\"\\n\")\n",
        "y_predict = lr_clf.predict(x_test)\n",
        "matrix_display = ConfusionMatrixDisplay(matrix_lr).plot()"
      ]
    },
    {
      "cell_type": "markdown",
      "id": "25ba68e2",
      "metadata": {
        "id": "25ba68e2",
        "papermill": {
          "duration": 0.084445,
          "end_time": "2021-11-20T13:45:40.470813",
          "exception": false,
          "start_time": "2021-11-20T13:45:40.386368",
          "status": "completed"
        },
        "tags": []
      },
      "source": [
        "\n",
        "\n",
        "#### Naive Bayes classifier"
      ]
    },
    {
      "cell_type": "markdown",
      "id": "1d3383de",
      "metadata": {
        "id": "1d3383de",
        "papermill": {
          "duration": 0.080639,
          "end_time": "2021-11-20T13:45:40.635587",
          "exception": false,
          "start_time": "2021-11-20T13:45:40.554948",
          "status": "completed"
        },
        "tags": []
      },
      "source": [
        "##### BernouliNB\n",
        "\n",
        "A binary algorithm used when the feature is present or not."
      ]
    },
    {
      "cell_type": "code",
      "execution_count": 17,
      "id": "7c394f47",
      "metadata": {
        "execution": {
          "iopub.execute_input": "2021-11-20T13:45:40.810753Z",
          "iopub.status.busy": "2021-11-20T13:45:40.809800Z",
          "iopub.status.idle": "2021-11-20T13:45:41.413695Z",
          "shell.execute_reply": "2021-11-20T13:45:41.414139Z"
        },
        "id": "7c394f47",
        "outputId": "4bccfa81-5ddd-4283-a737-a0ba9444e84e",
        "papermill": {
          "duration": 0.696556,
          "end_time": "2021-11-20T13:45:41.414311",
          "exception": false,
          "start_time": "2021-11-20T13:45:40.717755",
          "status": "completed"
        },
        "tags": [],
        "colab": {
          "base_uri": "https://localhost:8080/",
          "height": 505
        }
      },
      "outputs": [
        {
          "output_type": "stream",
          "name": "stdout",
          "text": [
            "              precision    recall  f1-score   support\n",
            "\n",
            "not-stressed       0.92      0.88      0.90      2491\n",
            "    stressed       0.92      0.94      0.93      3509\n",
            "\n",
            "    accuracy                           0.92      6000\n",
            "   macro avg       0.92      0.91      0.92      6000\n",
            "weighted avg       0.92      0.92      0.92      6000\n",
            "\n",
            "\n",
            "Accuracy for Bernouli Naive Bayes model: 0.9188333333333333\n",
            "\n",
            "\n"
          ]
        },
        {
          "output_type": "display_data",
          "data": {
            "image/png": "[encoded data removed]",
            "text/plain": [
              "<Figure size 432x288 with 2 Axes>"
            ]
          },
          "metadata": {
            "needs_background": "light"
          }
        }
      ],
      "source": [
        "from sklearn.naive_bayes import BernoulliNB\n",
        "nb_clf = BernoulliNB()\n",
        "nb_clf.fit(x_train, y_train)\n",
        "# make prediction on testing data\n",
        "y_pred_test_nb = nb_clf.predict(x_test)\n",
        "y_predprob_nb = nb_clf.predict_proba(x_test)\n",
        "matrix_nb = confusion_matrix(y_test,y_pred_test_nb)\n",
        "print(classification_report(y_test, y_pred_test_nb))\n",
        "print(\"\\nAccuracy for Bernouli Naive Bayes model:\",metrics.accuracy_score(y_test, y_pred_test_nb))\n",
        "print(\"\\n\")\n",
        "matrix_display = ConfusionMatrixDisplay(matrix_nb).plot()"
      ]
    },
    {
      "cell_type": "markdown",
      "id": "a49c70d4",
      "metadata": {
        "id": "a49c70d4",
        "papermill": {
          "duration": 0.086795,
          "end_time": "2021-11-20T13:45:41.586585",
          "exception": false,
          "start_time": "2021-11-20T13:45:41.499790",
          "status": "completed"
        },
        "tags": []
      },
      "source": [
        "##### MultinominaliNB\n",
        "\n",
        "It consider a feature vector where a given term represents the number of times it appears or very ofen, such as frequency."
      ]
    },
    {
      "cell_type": "code",
      "execution_count": 18,
      "id": "13d74280",
      "metadata": {
        "execution": {
          "iopub.execute_input": "2021-11-20T13:45:41.811123Z",
          "iopub.status.busy": "2021-11-20T13:45:41.809243Z",
          "iopub.status.idle": "2021-11-20T13:45:42.377946Z",
          "shell.execute_reply": "2021-11-20T13:45:42.377089Z"
        },
        "id": "13d74280",
        "outputId": "92f270a3-ed63-4b49-c001-3cb5d280725a",
        "papermill": {
          "duration": 0.708798,
          "end_time": "2021-11-20T13:45:42.378105",
          "exception": false,
          "start_time": "2021-11-20T13:45:41.669307",
          "status": "completed"
        },
        "tags": [],
        "colab": {
          "base_uri": "https://localhost:8080/",
          "height": 505
        }
      },
      "outputs": [
        {
          "output_type": "stream",
          "name": "stdout",
          "text": [
            "              precision    recall  f1-score   support\n",
            "\n",
            "not-stressed       0.93      0.90      0.91      2491\n",
            "    stressed       0.93      0.95      0.94      3509\n",
            "\n",
            "    accuracy                           0.93      6000\n",
            "   macro avg       0.93      0.92      0.93      6000\n",
            "weighted avg       0.93      0.93      0.93      6000\n",
            "\n",
            "\n",
            "Accuracy for multinominal Naive Bayes model: 0.9291666666666667\n",
            "\n",
            "\n"
          ]
        },
        {
          "output_type": "display_data",
          "data": {
            "image/png": "[encoded data removed]",
            "text/plain": [
              "<Figure size 432x288 with 2 Axes>"
            ]
          },
          "metadata": {
            "needs_background": "light"
          }
        }
      ],
      "source": [
        "mnb = MultinomialNB()\n",
        "mnb.fit(x_train, y_train)\n",
        "# make prediction on testing data\n",
        "y_pred_test_mnb = mnb.predict(x_test)\n",
        "y_predprob_mnb = mnb.predict_proba(x_test)\n",
        "matrix = confusion_matrix(y_test,y_pred_test_mnb)\n",
        "print(classification_report(y_test, y_pred_test_mnb))\n",
        "print(\"\\nAccuracy for multinominal Naive Bayes model:\",metrics.accuracy_score(y_test, y_pred_test_mnb))\n",
        "print(\"\\n\")\n",
        "\n",
        "y_predict = mnb.predict(x_test)\n",
        "cm = confusion_matrix(y_test, y_predict)\n",
        "cm_display = ConfusionMatrixDisplay(cm).plot()"
      ]
    },
    {
      "cell_type": "markdown",
      "id": "cf67f95e",
      "metadata": {
        "id": "cf67f95e",
        "papermill": {
          "duration": 0.085823,
          "end_time": "2021-11-20T13:45:42.549824",
          "exception": false,
          "start_time": "2021-11-20T13:45:42.464001",
          "status": "completed"
        },
        "tags": []
      },
      "source": [
        "# Cross validataion"
      ]
    },
    {
      "cell_type": "code",
      "execution_count": 19,
      "id": "2f5a383f",
      "metadata": {
        "execution": {
          "iopub.execute_input": "2021-11-20T13:45:42.811181Z",
          "iopub.status.busy": "2021-11-20T13:45:42.734972Z",
          "iopub.status.idle": "2021-11-20T13:45:42.987885Z",
          "shell.execute_reply": "2021-11-20T13:45:42.989089Z"
        },
        "id": "2f5a383f",
        "outputId": "2d2c5e37-533d-4130-83a9-54820fd212a5",
        "papermill": {
          "duration": 0.352043,
          "end_time": "2021-11-20T13:45:42.989420",
          "exception": false,
          "start_time": "2021-11-20T13:45:42.637377",
          "status": "completed"
        },
        "tags": [],
        "colab": {
          "base_uri": "https://localhost:8080/"
        }
      },
      "outputs": [
        {
          "output_type": "stream",
          "name": "stdout",
          "text": [
            "Logistic Regression Model\n",
            "\n",
            "Accuracy: 94.87%\n",
            "Precision: 94.82%\n",
            "Recall: 94.60%\n",
            "F1 Score:  0.9159408365025967\n",
            "[[2317  174]\n",
            " [ 134 3375]]\n"
          ]
        }
      ],
      "source": [
        "acc_score_lr = metrics.accuracy_score(y_pred_test_lr,y_test)\n",
        "prec_score_lr = precision_score(y_test,y_pred_test_lr, average='macro')\n",
        "recall_lr = recall_score(y_test, y_pred_test_lr,average='macro')\n",
        "f1_lr = f1_score(y_test,y_pred_test_nb,average='macro')\n",
        "matrix_lr = confusion_matrix(y_test,y_pred_test_lr)\n",
        "print('Logistic Regression Model\\n')\n",
        "print(str('Accuracy: '+'{:04.2f}'.format(acc_score_lr*100))+'%')\n",
        "print(str('Precision: '+'{:04.2f}'.format(prec_score_lr*100))+'%')\n",
        "print(str('Recall: '+'{:04.2f}'.format(recall_lr*100))+'%')\n",
        "print('F1 Score: ',f1_lr)\n",
        "print(matrix_lr)"
      ]
    },
    {
      "cell_type": "markdown",
      "id": "bb05300e",
      "metadata": {
        "id": "bb05300e",
        "papermill": {
          "duration": 0.087398,
          "end_time": "2021-11-20T13:45:43.170523",
          "exception": false,
          "start_time": "2021-11-20T13:45:43.083125",
          "status": "completed"
        },
        "tags": []
      },
      "source": [
        "##### BernouliNB"
      ]
    },
    {
      "cell_type": "code",
      "execution_count": 20,
      "id": "e6080ddf",
      "metadata": {
        "execution": {
          "iopub.execute_input": "2021-11-20T13:45:43.354530Z",
          "iopub.status.busy": "2021-11-20T13:45:43.353661Z",
          "iopub.status.idle": "2021-11-20T13:45:43.579865Z",
          "shell.execute_reply": "2021-11-20T13:45:43.579190Z"
        },
        "id": "e6080ddf",
        "outputId": "82a16747-644f-4e7c-f363-3d396b3b468a",
        "papermill": {
          "duration": 0.320283,
          "end_time": "2021-11-20T13:45:43.580046",
          "exception": false,
          "start_time": "2021-11-20T13:45:43.259763",
          "status": "completed"
        },
        "tags": [],
        "colab": {
          "base_uri": "https://localhost:8080/"
        }
      },
      "outputs": [
        {
          "output_type": "stream",
          "name": "stdout",
          "text": [
            "Bernouli Naive Bayes Model\n",
            "\n",
            "Accuracy: 91.88%\n",
            "Precision: 91.87%\n",
            "Recall: 91.37%\n",
            "F1 Score:  0.9159408365025967\n",
            "[[2200  291]\n",
            " [ 196 3313]]\n"
          ]
        }
      ],
      "source": [
        "acc_score_nb = metrics.accuracy_score(y_pred_test_nb,y_test)\n",
        "prec_score_nb = precision_score(y_test,y_pred_test_nb, average='macro')\n",
        "recall_nb = recall_score(y_test, y_pred_test_nb,average='macro')\n",
        "f1_nb = f1_score(y_test,y_pred_test_nb,average='macro')\n",
        "matrix_nb = confusion_matrix(y_test,y_pred_test_nb)\n",
        "print('Bernouli Naive Bayes Model\\n')\n",
        "print(str('Accuracy: '+'{:04.2f}'.format(acc_score_nb*100))+'%')\n",
        "print(str('Precision: '+'{:04.2f}'.format(prec_score_nb*100))+'%')\n",
        "print(str('Recall: '+'{:04.2f}'.format(recall_nb*100))+'%')\n",
        "print('F1 Score: ',f1_nb)\n",
        "print(matrix_nb)"
      ]
    },
    {
      "cell_type": "markdown",
      "id": "d0056a62",
      "metadata": {
        "id": "d0056a62",
        "papermill": {
          "duration": 0.090469,
          "end_time": "2021-11-20T13:45:43.763264",
          "exception": false,
          "start_time": "2021-11-20T13:45:43.672795",
          "status": "completed"
        },
        "tags": []
      },
      "source": [
        "##### MultinominaliNB"
      ]
    },
    {
      "cell_type": "code",
      "execution_count": 21,
      "id": "1fba81d3",
      "metadata": {
        "execution": {
          "iopub.execute_input": "2021-11-20T13:45:43.953699Z",
          "iopub.status.busy": "2021-11-20T13:45:43.952753Z",
          "iopub.status.idle": "2021-11-20T13:45:44.178460Z",
          "shell.execute_reply": "2021-11-20T13:45:44.178939Z"
        },
        "id": "1fba81d3",
        "outputId": "379072a7-23b8-46e7-9f7c-ad30834daa9d",
        "papermill": {
          "duration": 0.323687,
          "end_time": "2021-11-20T13:45:44.179101",
          "exception": false,
          "start_time": "2021-11-20T13:45:43.855414",
          "status": "completed"
        },
        "tags": [],
        "colab": {
          "base_uri": "https://localhost:8080/"
        }
      },
      "outputs": [
        {
          "output_type": "stream",
          "name": "stdout",
          "text": [
            "Multimominal Naive Bayes Model\n",
            "\n",
            "Accuracy: 92.92%\n",
            "Precision: 92.93%\n",
            "Recall: 92.45%\n",
            "F1 Score:  0.9266705125826067\n",
            "[[2234  257]\n",
            " [ 168 3341]]\n"
          ]
        }
      ],
      "source": [
        "acc_score_mnb = metrics.accuracy_score(y_pred_test_mnb,y_test)\n",
        "prec_score_mnb = precision_score(y_test,y_pred_test_mnb, average='macro')\n",
        "recall_mnb = recall_score(y_test, y_pred_test_mnb,average='macro')\n",
        "f1_mnb = f1_score(y_test,y_pred_test_mnb,average='macro')\n",
        "matrix_mnb = confusion_matrix(y_test,y_pred_test_mnb)\n",
        "print('Multimominal Naive Bayes Model\\n')\n",
        "print(str('Accuracy: '+'{:04.2f}'.format(acc_score_mnb*100))+'%')\n",
        "print(str('Precision: '+'{:04.2f}'.format(prec_score_mnb*100))+'%')\n",
        "print(str('Recall: '+'{:04.2f}'.format(recall_mnb*100))+'%')\n",
        "print('F1 Score: ',f1_mnb)\n",
        "print(matrix_mnb)"
      ]
    },
    {
      "cell_type": "markdown",
      "id": "0283fcc8",
      "metadata": {
        "id": "0283fcc8",
        "papermill": {
          "duration": 0.089765,
          "end_time": "2021-11-20T13:45:44.358941",
          "exception": false,
          "start_time": "2021-11-20T13:45:44.269176",
          "status": "completed"
        },
        "tags": []
      },
      "source": [
        "# Explain the model prediction"
      ]
    },
    {
      "cell_type": "markdown",
      "id": "2ecb5736",
      "metadata": {
        "id": "2ecb5736",
        "papermill": {
          "duration": 0.090982,
          "end_time": "2021-11-20T13:45:44.539923",
          "exception": false,
          "start_time": "2021-11-20T13:45:44.448941",
          "status": "completed"
        },
        "tags": []
      },
      "source": [
        "Multimominal Naive Bayes Model has higher accuracy than Bernouli Naive Bayes Model."
      ]
    },
    {
      "cell_type": "code",
      "execution_count": 22,
      "id": "2bf79779",
      "metadata": {
        "execution": {
          "iopub.execute_input": "2021-11-20T13:45:44.722916Z",
          "iopub.status.busy": "2021-11-20T13:45:44.721926Z",
          "iopub.status.idle": "2021-11-20T13:45:44.737307Z",
          "shell.execute_reply": "2021-11-20T13:45:44.736727Z"
        },
        "id": "2bf79779",
        "outputId": "a3b80361-64a2-4d36-ab9f-07cb66eeb601",
        "papermill": {
          "duration": 0.108264,
          "end_time": "2021-11-20T13:45:44.737450",
          "exception": false,
          "start_time": "2021-11-20T13:45:44.629186",
          "status": "completed"
        },
        "tags": [],
        "colab": {
          "base_uri": "https://localhost:8080/",
          "height": 112
        }
      },
      "outputs": [
        {
          "output_type": "execute_result",
          "data": {
            "text/html": [
              "<div>\n",
              "<style scoped>\n",
              "    .dataframe tbody tr th:only-of-type {\n",
              "        vertical-align: middle;\n",
              "    }\n",
              "\n",
              "    .dataframe tbody tr th {\n",
              "        vertical-align: top;\n",
              "    }\n",
              "\n",
              "    .dataframe thead th {\n",
              "        text-align: right;\n",
              "    }\n",
              "</style>\n",
              "<table border=\"1\" class=\"dataframe\">\n",
              "  <thead>\n",
              "    <tr style=\"text-align: right;\">\n",
              "      <th></th>\n",
              "      <th>sentence</th>\n",
              "      <th>label</th>\n",
              "      <th>pred_label</th>\n",
              "    </tr>\n",
              "  </thead>\n",
              "  <tbody>\n",
              "    <tr>\n",
              "      <th>10650</th>\n",
              "      <td>i noticed several months ago that i d start fe...</td>\n",
              "      <td>stressed</td>\n",
              "      <td>stressed</td>\n",
              "    </tr>\n",
              "    <tr>\n",
              "      <th>2041</th>\n",
              "      <td>i love lots of different kinds of sports and l...</td>\n",
              "      <td>not-stressed</td>\n",
              "      <td>not-stressed</td>\n",
              "    </tr>\n",
              "  </tbody>\n",
              "</table>\n",
              "</div>"
            ],
            "text/plain": [
              "                                                sentence  ...    pred_label\n",
              "10650  i noticed several months ago that i d start fe...  ...      stressed\n",
              "2041   i love lots of different kinds of sports and l...  ...  not-stressed\n",
              "\n",
              "[2 rows x 3 columns]"
            ]
          },
          "metadata": {},
          "execution_count": 22
        }
      ],
      "source": [
        "test_data = df_reidx.iloc[test_idx]\n",
        "test_data['pred_label'] = y_pred_test_lr\n",
        "test_data.head(2)[['sentence','label','pred_label']]\n",
        "# shows what the prediction label fit to the real label"
      ]
    },
    {
      "cell_type": "code",
      "execution_count": 23,
      "id": "48696d55",
      "metadata": {
        "execution": {
          "iopub.execute_input": "2021-11-20T13:45:44.923000Z",
          "iopub.status.busy": "2021-11-20T13:45:44.922050Z",
          "iopub.status.idle": "2021-11-20T13:45:44.931853Z",
          "shell.execute_reply": "2021-11-20T13:45:44.932367Z"
        },
        "id": "48696d55",
        "outputId": "ce88acdc-925a-4dee-b9e2-6f0f3f62774e",
        "papermill": {
          "duration": 0.105558,
          "end_time": "2021-11-20T13:45:44.932516",
          "exception": false,
          "start_time": "2021-11-20T13:45:44.826958",
          "status": "completed"
        },
        "tags": [],
        "colab": {
          "base_uri": "https://localhost:8080/",
          "height": 112
        }
      },
      "outputs": [
        {
          "output_type": "execute_result",
          "data": {
            "text/html": [
              "<div>\n",
              "<style scoped>\n",
              "    .dataframe tbody tr th:only-of-type {\n",
              "        vertical-align: middle;\n",
              "    }\n",
              "\n",
              "    .dataframe tbody tr th {\n",
              "        vertical-align: top;\n",
              "    }\n",
              "\n",
              "    .dataframe thead th {\n",
              "        text-align: right;\n",
              "    }\n",
              "</style>\n",
              "<table border=\"1\" class=\"dataframe\">\n",
              "  <thead>\n",
              "    <tr style=\"text-align: right;\">\n",
              "      <th></th>\n",
              "      <th>sentence</th>\n",
              "      <th>label</th>\n",
              "      <th>pred_label</th>\n",
              "    </tr>\n",
              "  </thead>\n",
              "  <tbody>\n",
              "    <tr>\n",
              "      <th>11072</th>\n",
              "      <td>being subject to unfair treatment in a working...</td>\n",
              "      <td>stressed</td>\n",
              "      <td>not-stressed</td>\n",
              "    </tr>\n",
              "    <tr>\n",
              "      <th>960</th>\n",
              "      <td>i will put my hand on his scar covered chest a...</td>\n",
              "      <td>not-stressed</td>\n",
              "      <td>stressed</td>\n",
              "    </tr>\n",
              "  </tbody>\n",
              "</table>\n",
              "</div>"
            ],
            "text/plain": [
              "                                                sentence  ...    pred_label\n",
              "11072  being subject to unfair treatment in a working...  ...  not-stressed\n",
              "960    i will put my hand on his scar covered chest a...  ...      stressed\n",
              "\n",
              "[2 rows x 3 columns]"
            ]
          },
          "metadata": {},
          "execution_count": 23
        }
      ],
      "source": [
        "# shows what the prediction label does not fit to the real label\n",
        "test_data[test_data['label'] != test_data['pred_label']].head()[['sentence','label','pred_label']].head(2)"
      ]
    },
    {
      "cell_type": "markdown",
      "id": "3f53c05a",
      "metadata": {
        "id": "3f53c05a",
        "papermill": {
          "duration": 0.088366,
          "end_time": "2021-11-20T13:45:45.109252",
          "exception": false,
          "start_time": "2021-11-20T13:45:45.020886",
          "status": "completed"
        },
        "tags": []
      },
      "source": [
        "##### Predicted features of logistic regression model"
      ]
    },
    {
      "cell_type": "code",
      "execution_count": 24,
      "id": "3d6ed1d7",
      "metadata": {
        "execution": {
          "iopub.execute_input": "2021-11-20T13:45:45.348178Z",
          "iopub.status.busy": "2021-11-20T13:45:45.347255Z",
          "iopub.status.idle": "2021-11-20T13:45:45.362042Z",
          "shell.execute_reply": "2021-11-20T13:45:45.363465Z"
        },
        "id": "3d6ed1d7",
        "outputId": "8384bf53-f1df-4f2b-895a-a403328949f8",
        "papermill": {
          "duration": 0.163506,
          "end_time": "2021-11-20T13:45:45.363685",
          "exception": false,
          "start_time": "2021-11-20T13:45:45.200179",
          "status": "completed"
        },
        "tags": [],
        "colab": {
          "base_uri": "https://localhost:8080/"
        }
      },
      "outputs": [
        {
          "output_type": "stream",
          "name": "stdout",
          "text": [
            "Top positive features:\n"
          ]
        },
        {
          "output_type": "execute_result",
          "data": {
            "text/plain": [
              "[('agit', 3.413),\n",
              " ('intimid', 3.325),\n",
              " ('tortur', 3.279),\n",
              " ('reluct', 3.207),\n",
              " ('enviou', 3.165),\n",
              " ('punish', 3.134),\n",
              " ('groggi', 3.055),\n",
              " ('jealou', 2.976),\n",
              " ('weird', 2.972),\n",
              " ('gloomi', 2.922)]"
            ]
          },
          "metadata": {},
          "execution_count": 24
        }
      ],
      "source": [
        "feature_to_coef = {word: float(\"%.3f\" % coef) for word, coef in zip(vectorizer.get_feature_names(), lr_clf.coef_[0])}\n",
        "\n",
        "print(\"Top positive features:\")\n",
        "sorted(feature_to_coef.items(), key=lambda x: x[1], reverse=True)[:10]"
      ]
    },
    {
      "cell_type": "code",
      "execution_count": 25,
      "id": "cda02eec",
      "metadata": {
        "execution": {
          "iopub.execute_input": "2021-11-20T13:45:45.687986Z",
          "iopub.status.busy": "2021-11-20T13:45:45.687050Z",
          "iopub.status.idle": "2021-11-20T13:45:45.696713Z",
          "shell.execute_reply": "2021-11-20T13:45:45.697610Z"
        },
        "id": "cda02eec",
        "outputId": "8ca1cb71-48fb-468c-f8e8-4027f3603794",
        "papermill": {
          "duration": 0.156362,
          "end_time": "2021-11-20T13:45:45.697829",
          "exception": false,
          "start_time": "2021-11-20T13:45:45.541467",
          "status": "completed"
        },
        "tags": [],
        "colab": {
          "base_uri": "https://localhost:8080/"
        }
      },
      "outputs": [
        {
          "output_type": "stream",
          "name": "stdout",
          "text": [
            "Top negative features:\n"
          ]
        },
        {
          "output_type": "execute_result",
          "data": {
            "text/plain": [
              "[('sympathet', -3.849),\n",
              " ('superior', -3.514),\n",
              " ('satisfi', -3.406),\n",
              " ('nostalg', -3.16),\n",
              " ('belov', -3.104),\n",
              " ('naughti', -3.097),\n",
              " ('resolv', -3.081),\n",
              " ('passion', -3.079),\n",
              " ('energet', -3.046),\n",
              " ('intellig', -3.037)]"
            ]
          },
          "metadata": {},
          "execution_count": 25
        }
      ],
      "source": [
        "# most of the words are reliable evidence of indicating negative sentiments\n",
        "print(\"Top negative features:\")\n",
        "sorted(feature_to_coef.items(), key=lambda x: x[1], reverse=False)[:10]"
      ]
    },
    {
      "cell_type": "markdown",
      "id": "fa098eb9",
      "metadata": {
        "id": "fa098eb9",
        "papermill": {
          "duration": 0.119763,
          "end_time": "2021-11-20T13:45:45.969150",
          "exception": false,
          "start_time": "2021-11-20T13:45:45.849387",
          "status": "completed"
        },
        "tags": []
      },
      "source": [
        "##### Predicted features of BernouliNB"
      ]
    },
    {
      "cell_type": "code",
      "execution_count": null,
      "id": "eeb221b6",
      "metadata": {
        "execution": {
          "iopub.execute_input": "2021-11-20T13:45:46.169070Z",
          "iopub.status.busy": "2021-11-20T13:45:46.168270Z",
          "iopub.status.idle": "2021-11-20T13:45:46.173526Z",
          "shell.execute_reply": "2021-11-20T13:45:46.172886Z"
        },
        "id": "eeb221b6",
        "outputId": "e14658e5-25db-4325-ec74-f536425753dc",
        "papermill": {
          "duration": 0.11406,
          "end_time": "2021-11-20T13:45:46.173653",
          "exception": false,
          "start_time": "2021-11-20T13:45:46.059593",
          "status": "completed"
        },
        "tags": []
      },
      "outputs": [
        {
          "name": "stdout",
          "output_type": "stream",
          "text": [
            "Top positive features:\n"
          ]
        },
        {
          "data": {
            "text/plain": [
              "[('like', -1.84),\n",
              " ('noth', -2.605),\n",
              " ('know', -2.835),\n",
              " ('realli', -2.919),\n",
              " ('time', -2.942),\n",
              " ('littl', -2.944),\n",
              " ('make', -3.05),\n",
              " ('want', -3.069),\n",
              " ('think', -3.138),\n",
              " ('thing', -3.158)]"
            ]
          },
          "execution_count": 26,
          "metadata": {},
          "output_type": "execute_result"
        }
      ],
      "source": [
        "feature_to_coef = {word: float(\"%.3f\" % coef) for word, coef in zip(vectorizer.get_feature_names(), nb_clf.coef_[0])}\n",
        "\n",
        "print(\"Top positive features:\")\n",
        "sorted(feature_to_coef.items(), key=lambda x: x[1], reverse=True)[:10]"
      ]
    },
    {
      "cell_type": "code",
      "execution_count": null,
      "id": "cfb31e19",
      "metadata": {
        "execution": {
          "iopub.execute_input": "2021-11-20T13:45:46.392528Z",
          "iopub.status.busy": "2021-11-20T13:45:46.391614Z",
          "iopub.status.idle": "2021-11-20T13:45:46.396506Z",
          "shell.execute_reply": "2021-11-20T13:45:46.397330Z"
        },
        "id": "cfb31e19",
        "outputId": "05b24a37-dbc1-4a10-b96c-5e3970873b98",
        "papermill": {
          "duration": 0.12109,
          "end_time": "2021-11-20T13:45:46.397539",
          "exception": false,
          "start_time": "2021-11-20T13:45:46.276449",
          "status": "completed"
        },
        "tags": []
      },
      "outputs": [
        {
          "name": "stdout",
          "output_type": "stream",
          "text": [
            "Top negative features:\n"
          ]
        },
        {
          "data": {
            "text/plain": [
              "[('abyss', -8.999),\n",
              " ('accent', -8.999),\n",
              " ('accumul', -8.999),\n",
              " ('acquaint', -8.999),\n",
              " ('actio', -8.999),\n",
              " ('adrenalin', -8.999),\n",
              " ('advoc', -8.999),\n",
              " ('aesthet', -8.999),\n",
              " ('affection', -8.999),\n",
              " ('al', -8.999)]"
            ]
          },
          "execution_count": 27,
          "metadata": {},
          "output_type": "execute_result"
        }
      ],
      "source": [
        "# most of the words are reliable evidence of indicating negative sentiments\n",
        "print(\"Top negative features:\")\n",
        "sorted(feature_to_coef.items(), key=lambda x: x[1], reverse=False)[:10]"
      ]
    },
    {
      "cell_type": "markdown",
      "id": "46636c24",
      "metadata": {
        "id": "46636c24",
        "papermill": {
          "duration": 0.099255,
          "end_time": "2021-11-20T13:45:46.597043",
          "exception": false,
          "start_time": "2021-11-20T13:45:46.497788",
          "status": "completed"
        },
        "tags": []
      },
      "source": [
        "##### Predicted features of multinomial NB"
      ]
    },
    {
      "cell_type": "code",
      "execution_count": null,
      "id": "89b9e63d",
      "metadata": {
        "execution": {
          "iopub.execute_input": "2021-11-20T13:45:46.815910Z",
          "iopub.status.busy": "2021-11-20T13:45:46.815100Z",
          "iopub.status.idle": "2021-11-20T13:45:46.820608Z",
          "shell.execute_reply": "2021-11-20T13:45:46.819874Z"
        },
        "id": "89b9e63d",
        "outputId": "fb488f65-f701-4f6f-dd52-7ce31ae1a477",
        "papermill": {
          "duration": 0.122202,
          "end_time": "2021-11-20T13:45:46.820796",
          "exception": false,
          "start_time": "2021-11-20T13:45:46.698594",
          "status": "completed"
        },
        "tags": []
      },
      "outputs": [
        {
          "name": "stdout",
          "output_type": "stream",
          "text": [
            "Top positive features:\n"
          ]
        },
        {
          "data": {
            "text/plain": [
              "[('like', -3.715),\n",
              " ('noth', -4.482),\n",
              " ('know', -4.748),\n",
              " ('realli', -4.819),\n",
              " ('littl', -4.86),\n",
              " ('time', -4.86),\n",
              " ('make', -4.949),\n",
              " ('want', -4.966),\n",
              " ('thing', -5.068),\n",
              " ('think', -5.071)]"
            ]
          },
          "execution_count": 28,
          "metadata": {},
          "output_type": "execute_result"
        }
      ],
      "source": [
        "feature_to_coef = {word: float(\"%.3f\" % coef) for word, coef in zip(vectorizer.get_feature_names(), mnb.coef_[0])}\n",
        "\n",
        "print(\"Top positive features:\")\n",
        "sorted(feature_to_coef.items(), key=lambda x: x[1], reverse=True)[:10]"
      ]
    },
    {
      "cell_type": "code",
      "execution_count": null,
      "id": "946c6fc1",
      "metadata": {
        "execution": {
          "iopub.execute_input": "2021-11-20T13:45:47.026405Z",
          "iopub.status.busy": "2021-11-20T13:45:47.025434Z",
          "iopub.status.idle": "2021-11-20T13:45:47.035076Z",
          "shell.execute_reply": "2021-11-20T13:45:47.035657Z"
        },
        "id": "946c6fc1",
        "outputId": "5d166425-f33e-41d5-d5d2-87368991bde4",
        "papermill": {
          "duration": 0.11243,
          "end_time": "2021-11-20T13:45:47.035824",
          "exception": false,
          "start_time": "2021-11-20T13:45:46.923394",
          "status": "completed"
        },
        "tags": []
      },
      "outputs": [
        {
          "name": "stdout",
          "output_type": "stream",
          "text": [
            "Top negative features:\n"
          ]
        },
        {
          "data": {
            "text/plain": [
              "[('abyss', -10.965),\n",
              " ('accent', -10.965),\n",
              " ('accumul', -10.965),\n",
              " ('acquaint', -10.965),\n",
              " ('actio', -10.965),\n",
              " ('adrenalin', -10.965),\n",
              " ('advoc', -10.965),\n",
              " ('aesthet', -10.965),\n",
              " ('affection', -10.965),\n",
              " ('al', -10.965)]"
            ]
          },
          "execution_count": 29,
          "metadata": {},
          "output_type": "execute_result"
        }
      ],
      "source": [
        "# most of the words are reliable evidence of indicating negative sentiments\n",
        "print(\"Top negative features:\")\n",
        "sorted(feature_to_coef.items(), key=lambda x: x[1], reverse=False)[:10]"
      ]
    },
    {
      "cell_type": "markdown",
      "id": "c2957421",
      "metadata": {
        "id": "c2957421",
        "papermill": {
          "duration": 0.101631,
          "end_time": "2021-11-20T13:45:47.237178",
          "exception": false,
          "start_time": "2021-11-20T13:45:47.135547",
          "status": "completed"
        },
        "tags": []
      },
      "source": [
        "# Conclusion"
      ]
    },
    {
      "cell_type": "code",
      "execution_count": null,
      "id": "7318cdc6",
      "metadata": {
        "_kg_hide-input": true,
        "execution": {
          "iopub.execute_input": "2021-11-20T13:45:47.447036Z",
          "iopub.status.busy": "2021-11-20T13:45:47.446056Z",
          "iopub.status.idle": "2021-11-20T13:45:47.449625Z",
          "shell.execute_reply": "2021-11-20T13:45:47.450319Z"
        },
        "id": "7318cdc6",
        "outputId": "08829bec-09e7-4d27-a2cd-eb2dad49a03c",
        "papermill": {
          "duration": 0.112614,
          "end_time": "2021-11-20T13:45:47.450527",
          "exception": false,
          "start_time": "2021-11-20T13:45:47.337913",
          "status": "completed"
        },
        "tags": []
      },
      "outputs": [
        {
          "name": "stdout",
          "output_type": "stream",
          "text": [
            "['stressed' 'not-stressed' 'stressed']\n"
          ]
        }
      ],
      "source": [
        "text=['i am not feeling well', 'i want to make this project better', 'i feel aaaaaaah']\n",
        "test_result = lr_clf.predict(vectorizer.transform(text))\n",
        "print(test_result)"
      ]
    }
  ],
  "metadata": {
    "kernelspec": {
      "display_name": "Python 3",
      "language": "python",
      "name": "python3"
    },
    "language_info": {
      "codemirror_mode": {
        "name": "ipython",
        "version": 3
      },
      "file_extension": ".py",
      "mimetype": "text/x-python",
      "name": "python",
      "nbconvert_exporter": "python",
      "pygments_lexer": "ipython3",
      "version": "3.7.10"
    },
    "papermill": {
      "default_parameters": {},
      "duration": 99.863188,
      "end_time": "2021-11-20T13:45:48.265966",
      "environment_variables": {},
      "exception": null,
      "input_path": "__notebook__.ipynb",
      "output_path": "__notebook__.ipynb",
      "parameters": {},
      "start_time": "2021-11-20T13:44:08.402778",
      "version": "2.3.3"
    },
    "colab": {
      "name": "Emotion_Detection_Using_Nlp.ipynb",
      "provenance": []
    }
  },
  "nbformat": 4,
  "nbformat_minor": 5
}